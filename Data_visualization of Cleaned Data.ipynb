{
 "cells": [
  {
   "cell_type": "markdown",
   "metadata": {},
   "source": [
    "<h1>Data setup</h1>\n",
    "<h2>Use our function to read the data file</h2>"
   ]
  },
  {
   "cell_type": "code",
   "execution_count": 1,
   "metadata": {},
   "outputs": [],
   "source": [
    "def read_311_data(datafile):\n",
    "    import pandas as pd\n",
    "    import numpy as np\n",
    "    \n",
    "    #Add the fix_zip function\n",
    "    def fix_zip(input_zip):\n",
    "        try:\n",
    "            input_zip = int(float(input_zip))\n",
    "        except:\n",
    "            try:\n",
    "                input_zip = int(input_zip.split('-')[0])\n",
    "            except:\n",
    "                return np.NaN\n",
    "        if input_zip < 10000 or input_zip > 19999:\n",
    "            return np.NaN\n",
    "        return str(input_zip)\n",
    "    \n",
    "    #Read the file\n",
    "    df = pd.read_csv(datafile,index_col='Unique Key')\n",
    "    \n",
    "    #fix the zip\n",
    "    df['Incident Zip'] = df['Incident Zip'].apply(fix_zip)\n",
    "    \n",
    "    #drop all rows that have any nans in them (note the easier syntax!)\n",
    "    \n",
    "    df = df.dropna(how='any')\n",
    "    \n",
    "    #get rid of unspecified boroughs\n",
    "    df = df[df['Borough'] != 'Unspecified']\n",
    "    \n",
    "    #Convert times to datetime and create a processing time column\n",
    "    \n",
    "    import datetime\n",
    "    df['Created Date'] = df['Created Date'].apply(lambda x:datetime.datetime.strptime(x,'%m/%d/%Y %I:%M:%S %p'))\n",
    "    df['Closed Date'] = df['Closed Date'].apply(lambda x:datetime.datetime.strptime(x,'%m/%d/%Y %I:%M:%S %p'))\n",
    "    df['processing_time'] =  df['Closed Date'] - df['Created Date']\n",
    "    \n",
    "    #Finally, get rid of negative processing times and return the final data frame\n",
    "    \n",
    "    df = df[df['processing_time']>=datetime.timedelta(0,0,0)]\n",
    "    \n",
    "    return df\n",
    "    "
   ]
  },
  {
   "cell_type": "code",
   "execution_count": 3,
   "metadata": {},
   "outputs": [
    {
     "name": "stderr",
     "output_type": "stream",
     "text": [
      "C:\\Users\\malat\\Anaconda3\\lib\\site-packages\\IPython\\core\\interactiveshell.py:2901: DtypeWarning: Columns (4) have mixed types. Specify dtype option on import or set low_memory=False.\n",
      "  if self.run_code(code, result):\n"
     ]
    }
   ],
   "source": [
    "datafile=\"C:/Users/malat/OneDrive/edx-Analytics datasets/nyc_311_data_subset-2.csv\"\n",
    "data = read_311_data(datafile)"
   ]
  },
  {
   "cell_type": "markdown",
   "metadata": {},
   "source": [
    "<h1>Plotting data on google maps</h1>\n",
    "<h2>gmplot library</h2>\n",
    "https://github.com/vgm64/gmplot"
   ]
  },
  {
   "cell_type": "code",
   "execution_count": 6,
   "metadata": {},
   "outputs": [],
   "source": [
    "#!pip install gmplot --upgrade"
   ]
  },
  {
   "cell_type": "markdown",
   "metadata": {},
   "source": [
    "<h3>Our data dataframe contains latitudes and longitudes for each complaint.</h3>\n",
    "<h3>We can draw a heatmap that will help us see the relative concentration of complaints using lats and lons</h3>\n",
    "\n"
   ]
  },
  {
   "cell_type": "markdown",
   "metadata": {},
   "source": [
    "<h3>Set up the map</h3>\n",
    "<h4>GoogleMapPlotter constructor</h4>\n",
    "<ul>\n",
    "<li>GoogleMapPlotter(center_lat, center_lng, zoom)\n",
    "<li>from_geocode(location_string,zoom)\n"
   ]
  },
  {
   "cell_type": "code",
   "execution_count": 8,
   "metadata": {},
   "outputs": [],
   "source": [
    "\n",
    "import gmplot\n",
    "gmap = gmplot.GoogleMapPlotter(40.7128, 74.0059, 8)\n",
    "\n",
    "\n",
    "#gmap = gmplot.GoogleMapPlotter.from_geocode(\"New York\",10)\n"
   ]
  },
  {
   "cell_type": "markdown",
   "metadata": {},
   "source": [
    "<h3>Then generate the heatmap passing the two data series (latitude and longitude) to the function</h3>"
   ]
  },
  {
   "cell_type": "code",
   "execution_count": 9,
   "metadata": {},
   "outputs": [],
   "source": [
    "#Then generate a heatmap using the latitudes and longitudes\n",
    "gmap.heatmap(data['Latitude'], data['Longitude'])"
   ]
  },
  {
   "cell_type": "markdown",
   "metadata": {},
   "source": [
    "<h3>Save the heatmap to an html file</h3>\n",
    "<h4>The html file can be viewed, printed, or included in another html page</h4>"
   ]
  },
  {
   "cell_type": "code",
   "execution_count": 10,
   "metadata": {},
   "outputs": [],
   "source": [
    "gmap.draw('incidents3.html')"
   ]
  },
  {
   "cell_type": "markdown",
   "metadata": {},
   "source": [
    "<h1>Let's do some grouping operations</h1>"
   ]
  },
  {
   "cell_type": "code",
   "execution_count": null,
   "metadata": {
    "collapsed": true
   },
   "outputs": [],
   "source": []
  },
  {
   "cell_type": "markdown",
   "metadata": {},
   "source": [
    "<h2>Incidents by Borough</h2>"
   ]
  },
  {
   "cell_type": "code",
   "execution_count": 11,
   "metadata": {},
   "outputs": [],
   "source": [
    "%matplotlib inline"
   ]
  },
  {
   "cell_type": "markdown",
   "metadata": {},
   "source": [
    "<h2>Group data by borough and plot a bar chart of the incident count</h2>"
   ]
  },
  {
   "cell_type": "code",
   "execution_count": 12,
   "metadata": {},
   "outputs": [
    {
     "data": {
      "text/plain": [
       "<matplotlib.axes._subplots.AxesSubplot at 0x24c94e4e550>"
      ]
     },
     "execution_count": 12,
     "metadata": {},
     "output_type": "execute_result"
    },
    {
     "data": {
      "image/png": "[encoded data removed]",
      "text/plain": [
       "<matplotlib.figure.Figure at 0x24c94e511d0>"
      ]
     },
     "metadata": {},
     "output_type": "display_data"
    }
   ],
   "source": [
    "\n",
    "borough_group = data.groupby('Borough')\n",
    "borough_group.size().plot(kind='bar')\n",
    "#kind can be 'hist', 'scatter'"
   ]
  },
  {
   "cell_type": "markdown",
   "metadata": {},
   "source": [
    "<h1>Incidents by Agency</h1>"
   ]
  },
  {
   "cell_type": "code",
   "execution_count": 13,
   "metadata": {},
   "outputs": [
    {
     "data": {
      "text/plain": [
       "<matplotlib.axes._subplots.AxesSubplot at 0x24c94e34b38>"
      ]
     },
     "execution_count": 13,
     "metadata": {},
     "output_type": "execute_result"
    },
    {
     "data": {
      "image/png": "[encoded data removed]",
      "text/plain": [
       "<matplotlib.figure.Figure at 0x24c94e3a9b0>"
      ]
     },
     "metadata": {},
     "output_type": "display_data"
    }
   ],
   "source": [
    "agency_group = data.groupby('Agency')\n",
    "agency_group.size().plot(kind='bar')"
   ]
  },
  {
   "cell_type": "markdown",
   "metadata": {},
   "source": [
    "<h2>Let's combine the two in a single graph</h2>\n"
   ]
  },
  {
   "cell_type": "code",
   "execution_count": 15,
   "metadata": {},
   "outputs": [],
   "source": [
    "\n",
    "agency_borough = data.groupby(['Agency','Borough'])\n",
    "#agency_borough.size().plot(kind='bar')\n"
   ]
  },
  {
   "cell_type": "markdown",
   "metadata": {},
   "source": [
    "<h2>This is quite unreadable and pointless!</h2>"
   ]
  },
  {
   "cell_type": "markdown",
   "metadata": {},
   "source": [
    "<h3>We can unstack the groups so that we get borough by agency</h3>"
   ]
  },
  {
   "cell_type": "code",
   "execution_count": 16,
   "metadata": {},
   "outputs": [
    {
     "data": {
      "text/plain": [
       "<matplotlib.axes._subplots.AxesSubplot at 0x24c959da908>"
      ]
     },
     "execution_count": 16,
     "metadata": {},
     "output_type": "execute_result"
    },
    {
     "data": {
      "image/png": "[encoded data removed]",
      "text/plain": [
       "<matplotlib.figure.Figure at 0x24c94db3fd0>"
      ]
     },
     "metadata": {},
     "output_type": "display_data"
    }
   ],
   "source": [
    "agency_borough.size().unstack().plot(kind='bar')"
   ]
  },
  {
   "cell_type": "markdown",
   "metadata": {},
   "source": [
    "<h3>Increase the size of the image and add a title</h3>"
   ]
  },
  {
   "cell_type": "code",
   "execution_count": 20,
   "metadata": {},
   "outputs": [
    {
     "data": {
      "text/plain": [
       "<matplotlib.axes._subplots.AxesSubplot at 0x24c948929e8>"
      ]
     },
     "execution_count": 20,
     "metadata": {},
     "output_type": "execute_result"
    },
    {
     "data": {
      "image/png": "[encoded data removed]",
      "text/plain": [
       "<matplotlib.figure.Figure at 0x24c948f72b0>"
      ]
     },
     "metadata": {},
     "output_type": "display_data"
    }
   ],
   "source": [
    "\n",
    "agency_borough = data.groupby(['Agency','Borough'])\n",
    "agency_borough.size().unstack().plot(kind='bar',title=\"Incidents in each Agency by Borough\",figsize=(15,10))\n"
   ]
  },
  {
   "cell_type": "markdown",
   "metadata": {},
   "source": [
    "<h1>Digression: The pandas groupby function</h1>"
   ]
  },
  {
   "cell_type": "markdown",
   "metadata": {},
   "source": [
    "<h4>You can use functions to group data</h4>"
   ]
  },
  {
   "cell_type": "code",
   "execution_count": null,
   "metadata": {},
   "outputs": [],
   "source": [
    "import pandas as pd\n",
    "writers = pd.DataFrame({'Author':['George Orwell','John Steinbeck',\n",
    "                                  'Pearl Buck','Agatha Christie'],\n",
    "                        'Country':['UK','USA','USA','UK'],\n",
    "                        'Gender':['M','M','F','F'],\n",
    "                        'Age':[46,66,80,85]})\n",
    "                        \n"
   ]
  },
  {
   "cell_type": "code",
   "execution_count": null,
   "metadata": {},
   "outputs": [],
   "source": [
    "writers"
   ]
  },
  {
   "cell_type": "markdown",
   "metadata": {},
   "source": [
    "<h4>Group by country</h4>"
   ]
  },
  {
   "cell_type": "code",
   "execution_count": null,
   "metadata": {},
   "outputs": [],
   "source": [
    "grouped = writers.groupby('Country')\n",
    "grouped.first()\n",
    "#grouped.last()\n",
    "#grouped.sum()\n",
    "#grouped.mean()\n",
    "#grouped.apply(sum)"
   ]
  },
  {
   "cell_type": "code",
   "execution_count": null,
   "metadata": {},
   "outputs": [],
   "source": [
    "grouped.groups"
   ]
  },
  {
   "cell_type": "markdown",
   "metadata": {},
   "source": [
    "<h4>Group by multiple columns</h4>"
   ]
  },
  {
   "cell_type": "code",
   "execution_count": null,
   "metadata": {},
   "outputs": [],
   "source": [
    "grouped = writers.groupby(['Country','Gender'])\n",
    "grouped.groups"
   ]
  },
  {
   "cell_type": "markdown",
   "metadata": {},
   "source": [
    "<h4>Group by age groups</h4>"
   ]
  },
  {
   "cell_type": "code",
   "execution_count": null,
   "metadata": {
    "collapsed": true
   },
   "outputs": [],
   "source": [
    "def age_groups(df,index,col):\n",
    "    print(index,col)\n",
    "    if df[col].iloc[index] < 30:\n",
    "        return 'Young'\n",
    "    if df[col].iloc[index] < 60:\n",
    "        return 'Middle'\n",
    "    else:\n",
    "        return 'Old'"
   ]
  },
  {
   "cell_type": "code",
   "execution_count": null,
   "metadata": {},
   "outputs": [],
   "source": [
    "writers['Age'].iloc[0]"
   ]
  },
  {
   "cell_type": "code",
   "execution_count": null,
   "metadata": {},
   "outputs": [],
   "source": [
    "grouped = writers.groupby(lambda x: age_groups(writers,x,'Age'))\n",
    "grouped.groups"
   ]
  },
  {
   "cell_type": "markdown",
   "metadata": {},
   "source": [
    "<h2>Grouping by the values in a column</h2>\n",
    "<h3>For example, grouping the data by values in a column that are greater than or less than zero</h3>"
   ]
  },
  {
   "cell_type": "code",
   "execution_count": null,
   "metadata": {
    "collapsed": true
   },
   "outputs": [],
   "source": [
    "import numpy as np "
   ]
  },
  {
   "cell_type": "code",
   "execution_count": null,
   "metadata": {},
   "outputs": [],
   "source": [
    "people = pd.DataFrame(np.random.randn(5, 5), columns=['a', 'b', 'c', 'd', 'e'], index=['Joe', 'Steve', 'Wes', 'Jim', 'Travis'])\n",
    "people"
   ]
  },
  {
   "cell_type": "markdown",
   "metadata": {},
   "source": [
    "<h3>Write a function that takes three arguments - a dataframe, an index, and a column name and returns the grouping for that row</h3>"
   ]
  },
  {
   "cell_type": "code",
   "execution_count": null,
   "metadata": {
    "collapsed": true
   },
   "outputs": [],
   "source": [
    "def GroupColFunc(df, ind, col):\n",
    "    if df[col].loc[ind] > 0:\n",
    "        return 'Group1'\n",
    "    else:\n",
    "        return 'Group2'"
   ]
  },
  {
   "cell_type": "code",
   "execution_count": null,
   "metadata": {},
   "outputs": [],
   "source": [
    "people.groupby(lambda x: GroupColFunc(people, x, 'a')).groups"
   ]
  },
  {
   "cell_type": "markdown",
   "metadata": {},
   "source": [
    "<h2>Now we can compute stats on these groups</h2>"
   ]
  },
  {
   "cell_type": "code",
   "execution_count": null,
   "metadata": {},
   "outputs": [],
   "source": [
    "print(people.groupby(lambda x: GroupColFunc(people, x, 'a')).mean())\n",
    "print(people.groupby(lambda x: GroupColFunc(people, x, 'a')).std())"
   ]
  },
  {
   "cell_type": "markdown",
   "metadata": {},
   "source": [
    "<h1>Incidents by time</h1>\n",
    "<p>We know the creation date of each incident so we can build a bar graph of number of incidents by month\n",
    "<p>Not particularly useful with a few months data but if we had all data from 2010, we could use this sort of\n",
    "analysis to eyeball trends and seasonality\n",
    "<p>We're going to need to do some data manipulation for this"
   ]
  },
  {
   "cell_type": "markdown",
   "metadata": {},
   "source": [
    "<h3>We'll start by creating a new date field yyyymm"
   ]
  },
  {
   "cell_type": "code",
   "execution_count": 21,
   "metadata": {},
   "outputs": [],
   "source": [
    "import datetime\n",
    "data['yyyymm'] = data['Created Date'].apply(lambda x:datetime.datetime.strftime(x,'%Y%m'))"
   ]
  },
  {
   "cell_type": "code",
   "execution_count": 24,
   "metadata": {},
   "outputs": [],
   "source": [
    "#data['yyyymm']"
   ]
  },
  {
   "cell_type": "code",
   "execution_count": 26,
   "metadata": {},
   "outputs": [
    {
     "data": {
      "text/plain": [
       "<matplotlib.axes._subplots.AxesSubplot at 0x24c96371e80>"
      ]
     },
     "execution_count": 26,
     "metadata": {},
     "output_type": "execute_result"
    },
    {
     "data": {
      "image/png": "[encoded data removed]",
      "text/plain": [
       "<matplotlib.figure.Figure at 0x24c9631fb70>"
      ]
     },
     "metadata": {},
     "output_type": "display_data"
    }
   ],
   "source": [
    "date_agency = data.groupby(['yyyymm','Agency'])\n",
    "date_agency.size().unstack().plot(kind='bar',figsize=(15,10))"
   ]
  },
  {
   "cell_type": "markdown",
   "metadata": {},
   "source": [
    "<h1>Examining agencies</h1>"
   ]
  },
  {
   "cell_type": "markdown",
   "metadata": {},
   "source": [
    "<h2>We'll look at the frequency by agency and report the top 5 values</h2>"
   ]
  },
  {
   "cell_type": "code",
   "execution_count": 27,
   "metadata": {},
   "outputs": [
    {
     "data": {
      "text/plain": [
       "Agency\n",
       "NYPD     273683\n",
       "HPD      244815\n",
       "DOT       66178\n",
       "DSNY      63321\n",
       "DEP       60346\n",
       "DOB       34821\n",
       "DHS       15083\n",
       "DOHMH     14188\n",
       "DPR       10830\n",
       "TLC        7129\n",
       "DCA        5760\n",
       "FDNY       1676\n",
       "DOF         579\n",
       "DOE         454\n",
       "DOITT       134\n",
       "EDC         123\n",
       "3-1-1       102\n",
       "DFTA        101\n",
       "dtype: int64"
      ]
     },
     "execution_count": 27,
     "metadata": {},
     "output_type": "execute_result"
    }
   ],
   "source": [
    "data.groupby('Agency').size().sort_values(ascending=False)"
   ]
  },
  {
   "cell_type": "code",
   "execution_count": 28,
   "metadata": {},
   "outputs": [
    {
     "data": {
      "text/plain": [
       "<matplotlib.axes._subplots.AxesSubplot at 0x24c964d69e8>"
      ]
     },
     "execution_count": 28,
     "metadata": {},
     "output_type": "execute_result"
    },
    {
     "data": {
      "image/png": "[encoded data removed]",
      "text/plain": [
       "<matplotlib.figure.Figure at 0x24c962fb198>"
      ]
     },
     "metadata": {},
     "output_type": "display_data"
    }
   ],
   "source": [
    "data.groupby('Agency').size().sort_values(ascending=False).plot(kind='bar', figsize=(20,4))"
   ]
  },
  {
   "cell_type": "markdown",
   "metadata": {},
   "source": [
    "<h3>We can drill down into complaints by Agency by borough</h3>"
   ]
  },
  {
   "cell_type": "code",
   "execution_count": 29,
   "metadata": {},
   "outputs": [],
   "source": [
    "agency_borough = data.groupby(['Agency', 'Borough']).size().unstack()"
   ]
  },
  {
   "cell_type": "code",
   "execution_count": null,
   "metadata": {},
   "outputs": [],
   "source": [
    "agency_borough"
   ]
  },
  {
   "cell_type": "markdown",
   "metadata": {},
   "source": [
    "<h3>We can create 'top 5 Agency' subplots subplots for each borough</h3>"
   ]
  },
  {
   "cell_type": "code",
   "execution_count": 30,
   "metadata": {},
   "outputs": [
    {
     "data": {
      "image/png": "[encoded data removed]",
      "text/plain": [
       "<matplotlib.figure.Figure at 0x24c97642ac8>"
      ]
     },
     "metadata": {},
     "output_type": "display_data"
    }
   ],
   "source": [
    "#We'll arrange the subplots in two rows and three columns. \n",
    "#Since we have only 5 boroughs, one plot will be blank\n",
    "COL_NUM = 2\n",
    "ROW_NUM = 3\n",
    "import matplotlib.pyplot as plt\n",
    "fig, axes = plt.subplots(ROW_NUM, COL_NUM, figsize=(12,12))\n",
    "\n",
    "for i, (label, col) in enumerate(agency_borough.iteritems()): \n",
    "    ax = axes[int(i/COL_NUM), i%COL_NUM]\n",
    "    col = col.sort_values(ascending=False)[:5] \n",
    "    col.plot(kind='barh', ax=ax)\n",
    "    ax.set_title(label)\n",
    "\n",
    "plt.tight_layout() "
   ]
  },
  {
   "cell_type": "code",
   "execution_count": 32,
   "metadata": {},
   "outputs": [],
   "source": [
    "#for i, (label, col) in enumerate(agency_borough.iteritems()): \n",
    "    #print(i,label,col)\n",
    "    "
   ]
  },
  {
   "cell_type": "markdown",
   "metadata": {},
   "source": [
    "<h1>Processing time</h1>\n",
    "<h2>We can compute simple statistics on processing time</h2>"
   ]
  },
  {
   "cell_type": "code",
   "execution_count": 33,
   "metadata": {},
   "outputs": [],
   "source": [
    "grouped = data[['processing_time','Borough']].groupby('Borough')"
   ]
  },
  {
   "cell_type": "code",
   "execution_count": 34,
   "metadata": {},
   "outputs": [
    {
     "data": {
      "text/html": [
       "<div>\n",
       "<style scoped>\n",
       "    .dataframe tbody tr th:only-of-type {\n",
       "        vertical-align: middle;\n",
       "    }\n",
       "\n",
       "    .dataframe tbody tr th {\n",
       "        vertical-align: top;\n",
       "    }\n",
       "\n",
       "    .dataframe thead tr th {\n",
       "        text-align: left;\n",
       "    }\n",
       "\n",
       "    .dataframe thead tr:last-of-type th {\n",
       "        text-align: right;\n",
       "    }\n",
       "</style>\n",
       "<table border=\"1\" class=\"dataframe\">\n",
       "  <thead>\n",
       "    <tr>\n",
       "      <th></th>\n",
       "      <th colspan=\"8\" halign=\"left\">processing_time</th>\n",
       "    </tr>\n",
       "    <tr>\n",
       "      <th></th>\n",
       "      <th>count</th>\n",
       "      <th>mean</th>\n",
       "      <th>std</th>\n",
       "      <th>min</th>\n",
       "      <th>25%</th>\n",
       "      <th>50%</th>\n",
       "      <th>75%</th>\n",
       "      <th>max</th>\n",
       "    </tr>\n",
       "    <tr>\n",
       "      <th>Borough</th>\n",
       "      <th></th>\n",
       "      <th></th>\n",
       "      <th></th>\n",
       "      <th></th>\n",
       "      <th></th>\n",
       "      <th></th>\n",
       "      <th></th>\n",
       "      <th></th>\n",
       "    </tr>\n",
       "  </thead>\n",
       "  <tbody>\n",
       "    <tr>\n",
       "      <th>BRONX</th>\n",
       "      <td>158548</td>\n",
       "      <td>5 days 11:22:39.529133</td>\n",
       "      <td>10 days 19:29:45.763262</td>\n",
       "      <td>0 days 00:00:00</td>\n",
       "      <td>0 days 05:48:38.250000</td>\n",
       "      <td>1 days 21:27:00</td>\n",
       "      <td>5 days 19:48:12.750000</td>\n",
       "      <td>145 days 00:23:57</td>\n",
       "    </tr>\n",
       "    <tr>\n",
       "      <th>BROOKLYN</th>\n",
       "      <td>252515</td>\n",
       "      <td>5 days 01:22:08.762913</td>\n",
       "      <td>11 days 20:44:39.914032</td>\n",
       "      <td>0 days 00:00:00</td>\n",
       "      <td>0 days 02:33:20.500000</td>\n",
       "      <td>0 days 20:19:00</td>\n",
       "      <td>4 days 05:20:01</td>\n",
       "      <td>146 days 17:26:50</td>\n",
       "    </tr>\n",
       "    <tr>\n",
       "      <th>MANHATTAN</th>\n",
       "      <td>171708</td>\n",
       "      <td>5 days 07:43:58.957480</td>\n",
       "      <td>12 days 01:57:03.858305</td>\n",
       "      <td>0 days 00:00:00</td>\n",
       "      <td>0 days 02:03:43</td>\n",
       "      <td>0 days 22:13:02.500000</td>\n",
       "      <td>4 days 11:06:08.500000</td>\n",
       "      <td>139 days 22:41:59</td>\n",
       "    </tr>\n",
       "    <tr>\n",
       "      <th>QUEENS</th>\n",
       "      <td>177641</td>\n",
       "      <td>4 days 22:17:46.753142</td>\n",
       "      <td>13 days 02:00:32.516708</td>\n",
       "      <td>0 days 00:00:00</td>\n",
       "      <td>0 days 02:07:59</td>\n",
       "      <td>0 days 10:15:11</td>\n",
       "      <td>3 days 20:47:00</td>\n",
       "      <td>148 days 13:10:54</td>\n",
       "    </tr>\n",
       "    <tr>\n",
       "      <th>STATEN ISLAND</th>\n",
       "      <td>38911</td>\n",
       "      <td>5 days 00:57:16.541826</td>\n",
       "      <td>12 days 00:18:49.372858</td>\n",
       "      <td>0 days 00:00:00</td>\n",
       "      <td>0 days 02:54:00</td>\n",
       "      <td>0 days 22:11:06</td>\n",
       "      <td>4 days 15:24:28</td>\n",
       "      <td>139 days 22:06:35</td>\n",
       "    </tr>\n",
       "  </tbody>\n",
       "</table>\n",
       "</div>"
      ],
      "text/plain": [
       "              processing_time                          \\\n",
       "                        count                    mean   \n",
       "Borough                                                 \n",
       "BRONX                  158548  5 days 11:22:39.529133   \n",
       "BROOKLYN               252515  5 days 01:22:08.762913   \n",
       "MANHATTAN              171708  5 days 07:43:58.957480   \n",
       "QUEENS                 177641  4 days 22:17:46.753142   \n",
       "STATEN ISLAND           38911  5 days 00:57:16.541826   \n",
       "\n",
       "                                                         \\\n",
       "                                   std              min   \n",
       "Borough                                                   \n",
       "BRONX          10 days 19:29:45.763262  0 days 00:00:00   \n",
       "BROOKLYN       11 days 20:44:39.914032  0 days 00:00:00   \n",
       "MANHATTAN      12 days 01:57:03.858305  0 days 00:00:00   \n",
       "QUEENS         13 days 02:00:32.516708  0 days 00:00:00   \n",
       "STATEN ISLAND  12 days 00:18:49.372858  0 days 00:00:00   \n",
       "\n",
       "                                                               \\\n",
       "                                  25%                     50%   \n",
       "Borough                                                         \n",
       "BRONX          0 days 05:48:38.250000         1 days 21:27:00   \n",
       "BROOKLYN       0 days 02:33:20.500000         0 days 20:19:00   \n",
       "MANHATTAN             0 days 02:03:43  0 days 22:13:02.500000   \n",
       "QUEENS                0 days 02:07:59         0 days 10:15:11   \n",
       "STATEN ISLAND         0 days 02:54:00         0 days 22:11:06   \n",
       "\n",
       "                                                          \n",
       "                                  75%                max  \n",
       "Borough                                                   \n",
       "BRONX          5 days 19:48:12.750000  145 days 00:23:57  \n",
       "BROOKLYN              4 days 05:20:01  146 days 17:26:50  \n",
       "MANHATTAN      4 days 11:06:08.500000  139 days 22:41:59  \n",
       "QUEENS                3 days 20:47:00  148 days 13:10:54  \n",
       "STATEN ISLAND         4 days 15:24:28  139 days 22:06:35  "
      ]
     },
     "execution_count": 34,
     "metadata": {},
     "output_type": "execute_result"
    }
   ],
   "source": [
    "grouped.describe()"
   ]
  },
  {
   "cell_type": "markdown",
   "metadata": {},
   "source": [
    "<h3>But it is easier to convert the timedelta processing_time into floats for calculation purposes</h3>"
   ]
  },
  {
   "cell_type": "code",
   "execution_count": 35,
   "metadata": {},
   "outputs": [],
   "source": [
    "import numpy as np\n",
    "#The time it takes to process. Cleaned up\n",
    "data['float_time'] =data['processing_time'].apply(lambda x:x/np.timedelta64(1, 'D'))"
   ]
  },
  {
   "cell_type": "code",
   "execution_count": 36,
   "metadata": {},
   "outputs": [
    {
     "data": {
      "text/html": [
       "<div>\n",
       "<style scoped>\n",
       "    .dataframe tbody tr th:only-of-type {\n",
       "        vertical-align: middle;\n",
       "    }\n",
       "\n",
       "    .dataframe tbody tr th {\n",
       "        vertical-align: top;\n",
       "    }\n",
       "\n",
       "    .dataframe thead th {\n",
       "        text-align: right;\n",
       "    }\n",
       "</style>\n",
       "<table border=\"1\" class=\"dataframe\">\n",
       "  <thead>\n",
       "    <tr style=\"text-align: right;\">\n",
       "      <th></th>\n",
       "      <th>Created Date</th>\n",
       "      <th>Closed Date</th>\n",
       "      <th>Agency</th>\n",
       "      <th>Incident Zip</th>\n",
       "      <th>Borough</th>\n",
       "      <th>Latitude</th>\n",
       "      <th>Longitude</th>\n",
       "      <th>processing_time</th>\n",
       "      <th>yyyymm</th>\n",
       "      <th>float_time</th>\n",
       "    </tr>\n",
       "    <tr>\n",
       "      <th>Unique Key</th>\n",
       "      <th></th>\n",
       "      <th></th>\n",
       "      <th></th>\n",
       "      <th></th>\n",
       "      <th></th>\n",
       "      <th></th>\n",
       "      <th></th>\n",
       "      <th></th>\n",
       "      <th></th>\n",
       "      <th></th>\n",
       "    </tr>\n",
       "  </thead>\n",
       "  <tbody>\n",
       "    <tr>\n",
       "      <th>1</th>\n",
       "      <td>2016-09-01 00:33:42</td>\n",
       "      <td>2016-09-16 01:06:56</td>\n",
       "      <td>DCA</td>\n",
       "      <td>10001</td>\n",
       "      <td>MANHATTAN</td>\n",
       "      <td>40.744790</td>\n",
       "      <td>-73.988834</td>\n",
       "      <td>15 days 00:33:14</td>\n",
       "      <td>201609</td>\n",
       "      <td>15.023079</td>\n",
       "    </tr>\n",
       "    <tr>\n",
       "      <th>1</th>\n",
       "      <td>2016-09-01 20:16:24</td>\n",
       "      <td>2016-09-10 18:08:25</td>\n",
       "      <td>HPD</td>\n",
       "      <td>11691</td>\n",
       "      <td>QUEENS</td>\n",
       "      <td>40.600554</td>\n",
       "      <td>-73.750704</td>\n",
       "      <td>8 days 21:52:01</td>\n",
       "      <td>201609</td>\n",
       "      <td>8.911123</td>\n",
       "    </tr>\n",
       "    <tr>\n",
       "      <th>1</th>\n",
       "      <td>2016-09-01 12:17:00</td>\n",
       "      <td>2016-09-07 12:00:00</td>\n",
       "      <td>DSNY</td>\n",
       "      <td>11211</td>\n",
       "      <td>BROOKLYN</td>\n",
       "      <td>40.704925</td>\n",
       "      <td>-73.962007</td>\n",
       "      <td>5 days 23:43:00</td>\n",
       "      <td>201609</td>\n",
       "      <td>5.988194</td>\n",
       "    </tr>\n",
       "    <tr>\n",
       "      <th>1</th>\n",
       "      <td>2016-09-01 12:10:22</td>\n",
       "      <td>2016-09-10 14:23:44</td>\n",
       "      <td>HPD</td>\n",
       "      <td>10027</td>\n",
       "      <td>MANHATTAN</td>\n",
       "      <td>40.812322</td>\n",
       "      <td>-73.955338</td>\n",
       "      <td>9 days 02:13:22</td>\n",
       "      <td>201609</td>\n",
       "      <td>9.092616</td>\n",
       "    </tr>\n",
       "    <tr>\n",
       "      <th>1</th>\n",
       "      <td>2016-09-01 12:32:32</td>\n",
       "      <td>2016-09-11 02:03:37</td>\n",
       "      <td>HPD</td>\n",
       "      <td>10452</td>\n",
       "      <td>BRONX</td>\n",
       "      <td>40.839529</td>\n",
       "      <td>-73.922534</td>\n",
       "      <td>9 days 13:31:05</td>\n",
       "      <td>201609</td>\n",
       "      <td>9.563252</td>\n",
       "    </tr>\n",
       "  </tbody>\n",
       "</table>\n",
       "</div>"
      ],
      "text/plain": [
       "                  Created Date         Closed Date Agency Incident Zip  \\\n",
       "Unique Key                                                               \n",
       "1          2016-09-01 00:33:42 2016-09-16 01:06:56    DCA        10001   \n",
       "1          2016-09-01 20:16:24 2016-09-10 18:08:25    HPD        11691   \n",
       "1          2016-09-01 12:17:00 2016-09-07 12:00:00   DSNY        11211   \n",
       "1          2016-09-01 12:10:22 2016-09-10 14:23:44    HPD        10027   \n",
       "1          2016-09-01 12:32:32 2016-09-11 02:03:37    HPD        10452   \n",
       "\n",
       "              Borough   Latitude  Longitude  processing_time  yyyymm  \\\n",
       "Unique Key                                                             \n",
       "1           MANHATTAN  40.744790 -73.988834 15 days 00:33:14  201609   \n",
       "1              QUEENS  40.600554 -73.750704  8 days 21:52:01  201609   \n",
       "1            BROOKLYN  40.704925 -73.962007  5 days 23:43:00  201609   \n",
       "1           MANHATTAN  40.812322 -73.955338  9 days 02:13:22  201609   \n",
       "1               BRONX  40.839529 -73.922534  9 days 13:31:05  201609   \n",
       "\n",
       "            float_time  \n",
       "Unique Key              \n",
       "1            15.023079  \n",
       "1             8.911123  \n",
       "1             5.988194  \n",
       "1             9.092616  \n",
       "1             9.563252  "
      ]
     },
     "execution_count": 36,
     "metadata": {},
     "output_type": "execute_result"
    }
   ],
   "source": [
    "data.head()\n"
   ]
  },
  {
   "cell_type": "markdown",
   "metadata": {},
   "source": [
    "<h2>Now we can compute stats easily</h2>"
   ]
  },
  {
   "cell_type": "code",
   "execution_count": 37,
   "metadata": {},
   "outputs": [
    {
     "data": {
      "text/html": [
       "<div>\n",
       "<style scoped>\n",
       "    .dataframe tbody tr th:only-of-type {\n",
       "        vertical-align: middle;\n",
       "    }\n",
       "\n",
       "    .dataframe tbody tr th {\n",
       "        vertical-align: top;\n",
       "    }\n",
       "\n",
       "    .dataframe thead th {\n",
       "        text-align: right;\n",
       "    }\n",
       "</style>\n",
       "<table border=\"1\" class=\"dataframe\">\n",
       "  <thead>\n",
       "    <tr style=\"text-align: right;\">\n",
       "      <th></th>\n",
       "      <th>float_time</th>\n",
       "    </tr>\n",
       "    <tr>\n",
       "      <th>Agency</th>\n",
       "      <th></th>\n",
       "    </tr>\n",
       "  </thead>\n",
       "  <tbody>\n",
       "    <tr>\n",
       "      <th>EDC</th>\n",
       "      <td>49.604041</td>\n",
       "    </tr>\n",
       "    <tr>\n",
       "      <th>FDNY</th>\n",
       "      <td>32.995208</td>\n",
       "    </tr>\n",
       "    <tr>\n",
       "      <th>DPR</th>\n",
       "      <td>24.395774</td>\n",
       "    </tr>\n",
       "    <tr>\n",
       "      <th>TLC</th>\n",
       "      <td>24.196724</td>\n",
       "    </tr>\n",
       "    <tr>\n",
       "      <th>DOITT</th>\n",
       "      <td>18.300134</td>\n",
       "    </tr>\n",
       "    <tr>\n",
       "      <th>DOHMH</th>\n",
       "      <td>15.897552</td>\n",
       "    </tr>\n",
       "    <tr>\n",
       "      <th>DOB</th>\n",
       "      <td>12.345634</td>\n",
       "    </tr>\n",
       "    <tr>\n",
       "      <th>DOE</th>\n",
       "      <td>11.360792</td>\n",
       "    </tr>\n",
       "    <tr>\n",
       "      <th>DCA</th>\n",
       "      <td>9.254590</td>\n",
       "    </tr>\n",
       "    <tr>\n",
       "      <th>HPD</th>\n",
       "      <td>8.799452</td>\n",
       "    </tr>\n",
       "    <tr>\n",
       "      <th>DFTA</th>\n",
       "      <td>8.465869</td>\n",
       "    </tr>\n",
       "    <tr>\n",
       "      <th>DOT</th>\n",
       "      <td>4.447129</td>\n",
       "    </tr>\n",
       "    <tr>\n",
       "      <th>DEP</th>\n",
       "      <td>3.520583</td>\n",
       "    </tr>\n",
       "    <tr>\n",
       "      <th>DSNY</th>\n",
       "      <td>3.052327</td>\n",
       "    </tr>\n",
       "    <tr>\n",
       "      <th>DOF</th>\n",
       "      <td>2.728715</td>\n",
       "    </tr>\n",
       "    <tr>\n",
       "      <th>DHS</th>\n",
       "      <td>0.207951</td>\n",
       "    </tr>\n",
       "    <tr>\n",
       "      <th>NYPD</th>\n",
       "      <td>0.205126</td>\n",
       "    </tr>\n",
       "    <tr>\n",
       "      <th>3-1-1</th>\n",
       "      <td>0.016513</td>\n",
       "    </tr>\n",
       "  </tbody>\n",
       "</table>\n",
       "</div>"
      ],
      "text/plain": [
       "        float_time\n",
       "Agency            \n",
       "EDC      49.604041\n",
       "FDNY     32.995208\n",
       "DPR      24.395774\n",
       "TLC      24.196724\n",
       "DOITT    18.300134\n",
       "DOHMH    15.897552\n",
       "DOB      12.345634\n",
       "DOE      11.360792\n",
       "DCA       9.254590\n",
       "HPD       8.799452\n",
       "DFTA      8.465869\n",
       "DOT       4.447129\n",
       "DEP       3.520583\n",
       "DSNY      3.052327\n",
       "DOF       2.728715\n",
       "DHS       0.207951\n",
       "NYPD      0.205126\n",
       "3-1-1     0.016513"
      ]
     },
     "execution_count": 37,
     "metadata": {},
     "output_type": "execute_result"
    }
   ],
   "source": [
    "grouped = data[['float_time','Agency']].groupby('Agency')\n",
    "grouped.mean().sort_values('float_time',ascending=False)"
   ]
  },
  {
   "cell_type": "code",
   "execution_count": 38,
   "metadata": {},
   "outputs": [
    {
     "data": {
      "text/plain": [
       "<matplotlib.axes._subplots.AxesSubplot at 0x24c98d11940>"
      ]
     },
     "execution_count": 38,
     "metadata": {},
     "output_type": "execute_result"
    },
    {
     "data": {
      "image/png": "[encoded data removed]",
      "text/plain": [
       "<matplotlib.figure.Figure at 0x24c99017f60>"
      ]
     },
     "metadata": {},
     "output_type": "display_data"
    }
   ],
   "source": [
    "data['float_time'].hist(bins=50)"
   ]
  },
  {
   "cell_type": "markdown",
   "metadata": {
    "collapsed": true
   },
   "source": [
    "<h1>Other useful visualization libraries</h1>\n",
    "<h2>seaborn: https://seaborn.pydata.org/</h2>\n",
    "<h2>bokeh: http://bokeh.pydata.org/en/latest/</h2>\n",
    "<h2>plotly: https://plot.ly/</h2>\n"
   ]
  },
  {
   "cell_type": "code",
   "execution_count": null,
   "metadata": {
    "collapsed": true
   },
   "outputs": [],
   "source": []
  },
  {
   "cell_type": "code",
   "execution_count": null,
   "metadata": {
    "collapsed": true
   },
   "outputs": [],
   "source": []
  }
 ],
 "metadata": {
  "anaconda-cloud": {},
  "kernelspec": {
   "display_name": "Python 3",
   "language": "python",
   "name": "python3"
  },
  "language_info": {
   "codemirror_mode": {
    "name": "ipython",
    "version": 3
   },
   "file_extension": ".py",
   "mimetype": "text/x-python",
   "name": "python",
   "nbconvert_exporter": "python",
   "pygments_lexer": "ipython3",
   "version": "3.6.6"
  },
  "toc": {
   "nav_menu": {},
   "number_sections": true,
   "sideBar": true,
   "skip_h1_title": false,
   "toc_cell": false,
   "toc_position": {},
   "toc_section_display": "block",
   "toc_window_display": false
  },
  "varInspector": {
   "cols": {
    "lenName": 16,
    "lenType": 16,
    "lenVar": 40
   },
   "kernels_config": {
    "python": {
     "delete_cmd_postfix": "",
     "delete_cmd_prefix": "del ",
     "library": "var_list.py",
     "varRefreshCmd": "print(var_dic_list())"
    },
    "r": {
     "delete_cmd_postfix": ") ",
     "delete_cmd_prefix": "rm(",
     "library": "var_list.r",
     "varRefreshCmd": "cat(var_dic_list()) "
    }
   },
   "types_to_exclude": [
    "module",
    "function",
    "builtin_function_or_method",
    "instance",
    "_Feature"
   ],
   "window_display": false
  }
 },
 "nbformat": 4,
 "nbformat_minor": 1
}
